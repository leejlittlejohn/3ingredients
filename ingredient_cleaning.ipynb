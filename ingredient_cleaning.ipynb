{
 "cells": [
  {
   "cell_type": "code",
   "execution_count": 1,
   "metadata": {},
   "outputs": [],
   "source": [
    "import numpy as np\n",
    "import pandas as pd\n",
    "import spacy"
   ]
  },
  {
   "cell_type": "markdown",
   "metadata": {},
   "source": [
    "# Ingredient Cleaning\n",
    "\n",
    "The goal here is to simplify the ingredients list from an entry like \"1 pound trimmed boneless center pork loin, sinew removed cut into 1-inch chunks, well chilled\" to \"pork loin\" for more efficient vectorizing."
   ]
  },
  {
   "cell_type": "markdown",
   "metadata": {},
   "source": [
    "### Read in Data"
   ]
  },
  {
   "cell_type": "code",
   "execution_count": 2,
   "metadata": {},
   "outputs": [
    {
     "name": "stderr",
     "output_type": "stream",
     "text": [
      "C:\\Users\\leejl\\anaconda3\\lib\\site-packages\\IPython\\core\\interactiveshell.py:3063: DtypeWarning: Columns (3) have mixed types.Specify dtype option on import or set low_memory=False.\n",
      "  interactivity=interactivity, compiler=compiler, result=result)\n"
     ]
    },
    {
     "name": "stdout",
     "output_type": "stream",
     "text": [
      "<class 'pandas.core.frame.DataFrame'>\n",
      "RangeIndex: 1174268 entries, 0 to 1174267\n",
      "Data columns (total 4 columns):\n",
      " #   Column       Non-Null Count    Dtype \n",
      "---  ------       --------------    ----- \n",
      " 0   title        1174268 non-null  object\n",
      " 1   method       1174267 non-null  object\n",
      " 2   ingredients  1174268 non-null  object\n",
      " 3   url          1029720 non-null  object\n",
      "dtypes: object(4)\n",
      "memory usage: 35.8+ MB\n",
      "None\n"
     ]
    },
    {
     "data": {
      "text/html": [
       "<div>\n",
       "<style scoped>\n",
       "    .dataframe tbody tr th:only-of-type {\n",
       "        vertical-align: middle;\n",
       "    }\n",
       "\n",
       "    .dataframe tbody tr th {\n",
       "        vertical-align: top;\n",
       "    }\n",
       "\n",
       "    .dataframe thead th {\n",
       "        text-align: right;\n",
       "    }\n",
       "</style>\n",
       "<table border=\"1\" class=\"dataframe\">\n",
       "  <thead>\n",
       "    <tr style=\"text-align: right;\">\n",
       "      <th></th>\n",
       "      <th>title</th>\n",
       "      <th>method</th>\n",
       "      <th>ingredients</th>\n",
       "      <th>url</th>\n",
       "    </tr>\n",
       "  </thead>\n",
       "  <tbody>\n",
       "    <tr>\n",
       "      <th>0</th>\n",
       "      <td>Lentil, Apple, and Turkey Wrap</td>\n",
       "      <td>1. Place the stock, lentils, celery, carrot, t...</td>\n",
       "      <td>['4 cups low-sodium vegetable or chicken stock...</td>\n",
       "      <td>NaN</td>\n",
       "    </tr>\n",
       "    <tr>\n",
       "      <th>1</th>\n",
       "      <td>Boudin Blanc Terrine with Red Onion Confit</td>\n",
       "      <td>Combine first 9 ingredients in heavy medium sa...</td>\n",
       "      <td>['1 1/2 cups whipping cream', '2 medium onions...</td>\n",
       "      <td>NaN</td>\n",
       "    </tr>\n",
       "    <tr>\n",
       "      <th>2</th>\n",
       "      <td>Potato and Fennel Soup Hodge</td>\n",
       "      <td>In a large heavy saucepan cook diced fennel an...</td>\n",
       "      <td>['1 fennel bulb (sometimes called anise), stal...</td>\n",
       "      <td>NaN</td>\n",
       "    </tr>\n",
       "    <tr>\n",
       "      <th>3</th>\n",
       "      <td>Mahi-Mahi in Tomato Olive Sauce</td>\n",
       "      <td>Heat oil in heavy large skillet over medium-hi...</td>\n",
       "      <td>['2 tablespoons extra-virgin olive oil', '1 cu...</td>\n",
       "      <td>NaN</td>\n",
       "    </tr>\n",
       "    <tr>\n",
       "      <th>4</th>\n",
       "      <td>Spinach Noodle Casserole</td>\n",
       "      <td>Preheat oven to 350°F. Lightly grease 8x8x2-in...</td>\n",
       "      <td>['1 12-ounce package frozen spinach soufflé, t...</td>\n",
       "      <td>NaN</td>\n",
       "    </tr>\n",
       "  </tbody>\n",
       "</table>\n",
       "</div>"
      ],
      "text/plain": [
       "                                         title  \\\n",
       "0              Lentil, Apple, and Turkey Wrap    \n",
       "1  Boudin Blanc Terrine with Red Onion Confit    \n",
       "2                Potato and Fennel Soup Hodge    \n",
       "3             Mahi-Mahi in Tomato Olive Sauce    \n",
       "4                    Spinach Noodle Casserole    \n",
       "\n",
       "                                              method  \\\n",
       "0  1. Place the stock, lentils, celery, carrot, t...   \n",
       "1  Combine first 9 ingredients in heavy medium sa...   \n",
       "2  In a large heavy saucepan cook diced fennel an...   \n",
       "3  Heat oil in heavy large skillet over medium-hi...   \n",
       "4  Preheat oven to 350°F. Lightly grease 8x8x2-in...   \n",
       "\n",
       "                                         ingredients  url  \n",
       "0  ['4 cups low-sodium vegetable or chicken stock...  NaN  \n",
       "1  ['1 1/2 cups whipping cream', '2 medium onions...  NaN  \n",
       "2  ['1 fennel bulb (sometimes called anise), stal...  NaN  \n",
       "3  ['2 tablespoons extra-virgin olive oil', '1 cu...  NaN  \n",
       "4  ['1 12-ounce package frozen spinach soufflé, t...  NaN  "
      ]
     },
     "execution_count": 2,
     "metadata": {},
     "output_type": "execute_result"
    }
   ],
   "source": [
    "dirty = pd.read_csv('data/dirty_recipes.csv')\n",
    "print(dirty.info())\n",
    "dirty.head()"
   ]
  },
  {
   "cell_type": "markdown",
   "metadata": {},
   "source": [
    "### Drop Duplicates"
   ]
  },
  {
   "cell_type": "code",
   "execution_count": 3,
   "metadata": {},
   "outputs": [
    {
     "name": "stdout",
     "output_type": "stream",
     "text": [
      "<class 'pandas.core.frame.DataFrame'>\n",
      "Int64Index: 1153057 entries, 0 to 1174267\n",
      "Data columns (total 4 columns):\n",
      " #   Column       Non-Null Count    Dtype \n",
      "---  ------       --------------    ----- \n",
      " 0   title        1153057 non-null  object\n",
      " 1   method       1153057 non-null  object\n",
      " 2   ingredients  1153057 non-null  object\n",
      " 3   url          1011613 non-null  object\n",
      "dtypes: object(4)\n",
      "memory usage: 44.0+ MB\n"
     ]
    }
   ],
   "source": [
    "dirty.drop_duplicates(['title', 'method'], inplace=True)\n",
    "\n",
    "# there seems to be a single recipe without a method\n",
    "# reset dataframe without it\n",
    "\n",
    "dirty = dirty.loc[dirty['method'].notnull(), :]\n",
    "dirty.info()"
   ]
  },
  {
   "cell_type": "markdown",
   "metadata": {},
   "source": [
    "### Format Ingredients"
   ]
  },
  {
   "cell_type": "code",
   "execution_count": 4,
   "metadata": {},
   "outputs": [
    {
     "data": {
      "text/plain": [
       "['2 tablespoons olive oil',\n",
       " '3 tablespoons finely minced garlic',\n",
       " '4 eggs',\n",
       " '1 cup finely chopped scallions',\n",
       " '1/2 cup finely chopped fresh coriander',\n",
       " '1 1/2 pounds lean, boneless pork, cut into five equal-size portions',\n",
       " '1/2 pound medium egg noodles',\n",
       " '1/4 cup peanut, vegetable or corn oil',\n",
       " '1 cup finely minced heart of celery',\n",
       " '1 pound shrimp, shelled and deveined, about 2 cups',\n",
       " '3 or 4 fresh, hot, red or green chili peppers',\n",
       " '2 cups rich chicken stock (see recipe)',\n",
       " '3/4 pound bean sprouts']"
      ]
     },
     "execution_count": 4,
     "metadata": {},
     "output_type": "execute_result"
    }
   ],
   "source": [
    "def ingr_str_to_list(ingr_str):\n",
    "    '''\n",
    "    converts the ingredients column\n",
    "    each entry => list of ingredients, one string per ingredient\n",
    "    removes \"ADVERTISEMENT\"\n",
    "    use with .apply()\n",
    "    '''\n",
    "    ingr_list = ingr_str[2:-2].split(r\"', '\")\n",
    "    return [i.lower().replace('advertisement', '') for i in ingr_list]\n",
    "\n",
    "# apply it\n",
    "dirty['ingredients'] = dirty['ingredients'].apply(ingr_str_to_list)\n",
    "\n",
    "# check an entry\n",
    "dirty['ingredients'][250_000]"
   ]
  },
  {
   "cell_type": "markdown",
   "metadata": {},
   "source": [
    "### Save to CSV\n",
    "\n",
    "Output a CSV file in order to present recommendations without NLP modifications later."
   ]
  },
  {
   "cell_type": "code",
   "execution_count": 5,
   "metadata": {},
   "outputs": [],
   "source": [
    "#dirty.to_csv('data/recipes_for_output.csv', index=False)"
   ]
  },
  {
   "cell_type": "markdown",
   "metadata": {},
   "source": [
    "### Isolating Base Ingredients"
   ]
  },
  {
   "cell_type": "code",
   "execution_count": 6,
   "metadata": {},
   "outputs": [],
   "source": [
    "# load robust spaCy model\n",
    "nlp = spacy.load('en_core_web_lg')\n",
    "\n",
    "# rejoin ingredients\n",
    "dirty['ingredients'] = dirty['ingredients'].apply('. '.join)"
   ]
  },
  {
   "cell_type": "code",
   "execution_count": 7,
   "metadata": {},
   "outputs": [],
   "source": [
    "# remove digits\n",
    "def alpha_converter(ingr_str):\n",
    "    '''\n",
    "    removes digits\n",
    "    use with .apply()\n",
    "    '''\n",
    "    return ''.join(x for x in ingr_str if not x.isdigit() or x == ' ')\n",
    "\n",
    "# apply it\n",
    "dirty['ingredients'] = dirty['ingredients'].apply(alpha_converter)"
   ]
  },
  {
   "cell_type": "code",
   "execution_count": 8,
   "metadata": {},
   "outputs": [],
   "source": [
    "# remove standard units of measurement\n",
    "def unit_remover(ingr_str):\n",
    "    '''\n",
    "    removes units of measure\n",
    "    use with .apply()\n",
    "    '''\n",
    "    measures = ['ounce', 'ounces', 'cups', 'cup', 'teaspoon', 'tablespoon', 'tablespoons', 'teaspoons', \n",
    "                'c', 'quarts', 'quart', 'g', 'tbsp', 'tbsps', 'ml', 'lb', 'lbs', 'pound', 'pounds', 'tbs', \n",
    "                'oz', 'pkg', 'package', 'tsp', 'grams', 'can', 'l', 'liter', 'liters', 'gallon', 'gallons']\n",
    "    ingr_list = ingr_str.split()\n",
    "    return ' '.join((tok for tok in ingr_list if tok not in measures))\n",
    "\n",
    "# apply it\n",
    "dirty['ingredients'] = dirty['ingredients'].apply(unit_remover)"
   ]
  },
  {
   "cell_type": "code",
   "execution_count": 9,
   "metadata": {},
   "outputs": [],
   "source": [
    "# special cases\n",
    "herbs = set(['thyme', 'rosemary', 'tarragon', 'basil', 'marjoram', 'oregano', 'cilantro', 'mint', 'parsley'])\n",
    "hearts = set(['palm', 'celery', 'romaine'])"
   ]
  },
  {
   "cell_type": "code",
   "execution_count": 10,
   "metadata": {},
   "outputs": [],
   "source": [
    "def ingredient_isolator(ingr_str):\n",
    "    '''\n",
    "    not lightweight -- time intensive\n",
    "    pulls out base ingredient from a string of ingredients\n",
    "    requires spaCy\n",
    "    '''\n",
    "    doc = nlp(ingr_str)\n",
    "    root_str = ''\n",
    "    \n",
    "    for tok in doc:\n",
    "\n",
    "        # check for garlic cloves special case\n",
    "        # garlic cloves => garlic OR cloves of garlic => garlic\n",
    "        if tok.text == 'clove' or tok.text == 'cloves':\n",
    "            if 'garlic' in [str(i) for i in tok.subtree]:\n",
    "                root_str += ' ' + 'garlic'\n",
    "                continue\n",
    "        \n",
    "            \n",
    "        # check for herb sprigs special case\n",
    "        # herb sprigs => herb OR sprigs of herb => herb\n",
    "        \n",
    "        if tok.text == 'sprig' or tok.text == 'sprigs':\n",
    "            root_str += ' ' + ''.join(herbs & set(str(child) for child in tok.subtree))\n",
    "            continue\n",
    "\n",
    "        # check for hearts special case\n",
    "        # veggie hearts => veggie OR hearts of veggie => veggie\n",
    "        if tok.text == 'heart' or tok.text == 'hearts':\n",
    "            if any(heart in hearts for heart in (str(child) for child in tok.subtree)):\n",
    "                root_str += ' ' + ''.join(hearts & set(str(child) for child in tok.subtree))\n",
    "                continue\n",
    "\n",
    "        # main use case\n",
    "        if tok.pos_ == 'NOUN' and (tok.dep_ == 'ROOT' or tok.dep_ == 'dobj' or tok.dep_ == 'appos'):  \n",
    "            root_str += ' ' + tok.text\n",
    "\n",
    "    return root_str.strip()"
   ]
  },
  {
   "cell_type": "code",
   "execution_count": 14,
   "metadata": {},
   "outputs": [
    {
     "name": "stdout",
     "output_type": "stream",
     "text": [
      "Wall time: 4h 32min 3s\n"
     ]
    }
   ],
   "source": [
    "%%time\n",
    "#dirty['ingredients'] = dirty['ingredients'].apply(ingredient_isolator)"
   ]
  },
  {
   "cell_type": "code",
   "execution_count": 15,
   "metadata": {},
   "outputs": [
    {
     "data": {
      "text/html": [
       "<div>\n",
       "<style scoped>\n",
       "    .dataframe tbody tr th:only-of-type {\n",
       "        vertical-align: middle;\n",
       "    }\n",
       "\n",
       "    .dataframe tbody tr th {\n",
       "        vertical-align: top;\n",
       "    }\n",
       "\n",
       "    .dataframe thead th {\n",
       "        text-align: right;\n",
       "    }\n",
       "</style>\n",
       "<table border=\"1\" class=\"dataframe\">\n",
       "  <thead>\n",
       "    <tr style=\"text-align: right;\">\n",
       "      <th></th>\n",
       "      <th>title</th>\n",
       "      <th>method</th>\n",
       "      <th>ingredients</th>\n",
       "      <th>url</th>\n",
       "    </tr>\n",
       "  </thead>\n",
       "  <tbody>\n",
       "    <tr>\n",
       "      <th>0</th>\n",
       "      <td>Lentil, Apple, and Turkey Wrap</td>\n",
       "      <td>1. Place the stock, lentils, celery, carrot, t...</td>\n",
       "      <td>vegetable lentils lentils celery carrot  thyme...</td>\n",
       "      <td>NaN</td>\n",
       "    </tr>\n",
       "    <tr>\n",
       "      <th>1</th>\n",
       "      <td>Boudin Blanc Terrine with Red Onion Confit</td>\n",
       "      <td>Combine first 9 ingredients in heavy medium sa...</td>\n",
       "      <td>cream onions salt leaves cloves garlic pepper ...</td>\n",
       "      <td>NaN</td>\n",
       "    </tr>\n",
       "    <tr>\n",
       "      <th>2</th>\n",
       "      <td>Potato and Fennel Soup Hodge</td>\n",
       "      <td>In a large heavy saucepan cook diced fennel an...</td>\n",
       "      <td>onion butter potatoes broth milk</td>\n",
       "      <td>NaN</td>\n",
       "    </tr>\n",
       "    <tr>\n",
       "      <th>3</th>\n",
       "      <td>Mahi-Mahi in Tomato Olive Sauce</td>\n",
       "      <td>Heat oil in heavy large skillet over medium-hi...</td>\n",
       "      <td>oil onion wine paste tomatoes fillets olives p...</td>\n",
       "      <td>NaN</td>\n",
       "    </tr>\n",
       "    <tr>\n",
       "      <th>4</th>\n",
       "      <td>Spinach Noodle Casserole</td>\n",
       "      <td>Preheat oven to 350°F. Lightly grease 8x8x2-in...</td>\n",
       "      <td>noodles cream sauce nutmeg cheese</td>\n",
       "      <td>NaN</td>\n",
       "    </tr>\n",
       "  </tbody>\n",
       "</table>\n",
       "</div>"
      ],
      "text/plain": [
       "                                         title  \\\n",
       "0              Lentil, Apple, and Turkey Wrap    \n",
       "1  Boudin Blanc Terrine with Red Onion Confit    \n",
       "2                Potato and Fennel Soup Hodge    \n",
       "3             Mahi-Mahi in Tomato Olive Sauce    \n",
       "4                    Spinach Noodle Casserole    \n",
       "\n",
       "                                              method  \\\n",
       "0  1. Place the stock, lentils, celery, carrot, t...   \n",
       "1  Combine first 9 ingredients in heavy medium sa...   \n",
       "2  In a large heavy saucepan cook diced fennel an...   \n",
       "3  Heat oil in heavy large skillet over medium-hi...   \n",
       "4  Preheat oven to 350°F. Lightly grease 8x8x2-in...   \n",
       "\n",
       "                                         ingredients  url  \n",
       "0  vegetable lentils lentils celery carrot  thyme...  NaN  \n",
       "1  cream onions salt leaves cloves garlic pepper ...  NaN  \n",
       "2                   onion butter potatoes broth milk  NaN  \n",
       "3  oil onion wine paste tomatoes fillets olives p...  NaN  \n",
       "4                  noodles cream sauce nutmeg cheese  NaN  "
      ]
     },
     "execution_count": 15,
     "metadata": {},
     "output_type": "execute_result"
    }
   ],
   "source": [
    "dirty.head()"
   ]
  },
  {
   "cell_type": "code",
   "execution_count": 16,
   "metadata": {},
   "outputs": [],
   "source": [
    "# quickly! to CSV!\n",
    "#dirty.to_csv('data/ingr_tok.csv', index=False)"
   ]
  },
  {
   "cell_type": "markdown",
   "metadata": {},
   "source": [
    "### Final Dataset Construction"
   ]
  },
  {
   "cell_type": "code",
   "execution_count": 2,
   "metadata": {},
   "outputs": [
    {
     "name": "stdout",
     "output_type": "stream",
     "text": [
      "<class 'pandas.core.frame.DataFrame'>\n",
      "RangeIndex: 1153057 entries, 0 to 1153056\n",
      "Data columns (total 4 columns):\n",
      " #   Column       Non-Null Count    Dtype \n",
      "---  ------       --------------    ----- \n",
      " 0   title        1153057 non-null  object\n",
      " 1   method       1153057 non-null  object\n",
      " 2   ingredients  1153057 non-null  object\n",
      " 3   url          1011613 non-null  object\n",
      "dtypes: object(4)\n",
      "memory usage: 35.2+ MB\n"
     ]
    }
   ],
   "source": [
    "# to fix a mistake -- should have made a new column for the tokenized ingredients\n",
    "\n",
    "# read back in recipes_for_output\n",
    "dirty = pd.read_csv('data/recipes_for_output.csv')\n",
    "dirty.info()"
   ]
  },
  {
   "cell_type": "code",
   "execution_count": 3,
   "metadata": {},
   "outputs": [
    {
     "name": "stdout",
     "output_type": "stream",
     "text": [
      "<class 'pandas.core.frame.DataFrame'>\n",
      "RangeIndex: 1153057 entries, 0 to 1153056\n",
      "Data columns (total 4 columns):\n",
      " #   Column       Non-Null Count    Dtype \n",
      "---  ------       --------------    ----- \n",
      " 0   title        1153057 non-null  object\n",
      " 1   method       1153057 non-null  object\n",
      " 2   ingredients  1150037 non-null  object\n",
      " 3   url          1011613 non-null  object\n",
      "dtypes: object(4)\n",
      "memory usage: 35.2+ MB\n"
     ]
    }
   ],
   "source": [
    "ingr_tok = pd.read_csv('data/ingr_tok.csv')\n",
    "ingr_tok.info()"
   ]
  },
  {
   "cell_type": "code",
   "execution_count": 4,
   "metadata": {},
   "outputs": [],
   "source": [
    "ingr_tok.rename(columns={'ingredients': 'ingredient_tokens'}, inplace=True)"
   ]
  },
  {
   "cell_type": "code",
   "execution_count": 5,
   "metadata": {},
   "outputs": [
    {
     "name": "stdout",
     "output_type": "stream",
     "text": [
      "<class 'pandas.core.frame.DataFrame'>\n",
      "RangeIndex: 1153057 entries, 0 to 1153056\n",
      "Data columns (total 5 columns):\n",
      " #   Column             Non-Null Count    Dtype \n",
      "---  ------             --------------    ----- \n",
      " 0   title              1153057 non-null  object\n",
      " 1   method             1153057 non-null  object\n",
      " 2   ingredients        1153057 non-null  object\n",
      " 3   url                1011613 non-null  object\n",
      " 4   ingredient_tokens  1150037 non-null  object\n",
      "dtypes: object(5)\n",
      "memory usage: 44.0+ MB\n"
     ]
    }
   ],
   "source": [
    "big_dumb = pd.merge(dirty, ingr_tok[['ingredient_tokens']], how='inner', left_index=True, right_index=True)\n",
    "big_dumb.info()"
   ]
  },
  {
   "cell_type": "code",
   "execution_count": 6,
   "metadata": {},
   "outputs": [
    {
     "data": {
      "text/plain": [
       "10519"
      ]
     },
     "execution_count": 6,
     "metadata": {},
     "output_type": "execute_result"
    }
   ],
   "source": [
    "# check out unique ingredients\n",
    "\n",
    "bd_ingr_set = set((' '.join(str(x) for x in big_dumb['ingredient_tokens'].values)).split())\n",
    "len(bd_ingr_set)"
   ]
  },
  {
   "cell_type": "code",
   "execution_count": 7,
   "metadata": {},
   "outputs": [
    {
     "name": "stdout",
     "output_type": "stream",
     "text": [
      "True\n",
      "True\n",
      "True\n",
      "True\n",
      "True\n",
      "True\n",
      "True\n",
      "True\n",
      "True\n"
     ]
    }
   ],
   "source": [
    "# check for some rare-ish things\n",
    "\n",
    "print('asafoetida' in bd_ingr_set)\n",
    "print('sole' in bd_ingr_set)\n",
    "print('verbena' in bd_ingr_set)\n",
    "print('gooseberries' in bd_ingr_set)\n",
    "print('treacle' in bd_ingr_set)\n",
    "print('guajillo' in bd_ingr_set)\n",
    "print('kamut' in bd_ingr_set)\n",
    "print('epazote' in bd_ingr_set)\n",
    "print('cuttlefish' in bd_ingr_set)"
   ]
  },
  {
   "cell_type": "markdown",
   "metadata": {},
   "source": [
    "### Drop Nulls Generated During Ingredient Isolation"
   ]
  },
  {
   "cell_type": "code",
   "execution_count": 7,
   "metadata": {},
   "outputs": [
    {
     "data": {
      "text/plain": [
       "title                     0\n",
       "method                    0\n",
       "ingredients               0\n",
       "url                  141444\n",
       "ingredient_tokens      3020\n",
       "dtype: int64"
      ]
     },
     "execution_count": 7,
     "metadata": {},
     "output_type": "execute_result"
    }
   ],
   "source": [
    "big_dumb.isnull().sum()"
   ]
  },
  {
   "cell_type": "code",
   "execution_count": 8,
   "metadata": {},
   "outputs": [
    {
     "data": {
      "text/plain": [
       "title                     0\n",
       "method                    0\n",
       "ingredients               0\n",
       "url                  139785\n",
       "ingredient_tokens         0\n",
       "dtype: int64"
      ]
     },
     "execution_count": 8,
     "metadata": {},
     "output_type": "execute_result"
    }
   ],
   "source": [
    "big_dumb.dropna(subset=['ingredient_tokens'], inplace=True)\n",
    "big_dumb.isnull().sum()"
   ]
  },
  {
   "cell_type": "code",
   "execution_count": 9,
   "metadata": {},
   "outputs": [
    {
     "name": "stdout",
     "output_type": "stream",
     "text": [
      "<class 'pandas.core.frame.DataFrame'>\n",
      "Int64Index: 1150037 entries, 0 to 1153056\n",
      "Data columns (total 5 columns):\n",
      " #   Column             Non-Null Count    Dtype \n",
      "---  ------             --------------    ----- \n",
      " 0   title              1150037 non-null  object\n",
      " 1   method             1150037 non-null  object\n",
      " 2   ingredients        1150037 non-null  object\n",
      " 3   url                1010252 non-null  object\n",
      " 4   ingredient_tokens  1150037 non-null  object\n",
      "dtypes: object(5)\n",
      "memory usage: 92.6+ MB\n",
      "None\n"
     ]
    },
    {
     "data": {
      "text/html": [
       "<div>\n",
       "<style scoped>\n",
       "    .dataframe tbody tr th:only-of-type {\n",
       "        vertical-align: middle;\n",
       "    }\n",
       "\n",
       "    .dataframe tbody tr th {\n",
       "        vertical-align: top;\n",
       "    }\n",
       "\n",
       "    .dataframe thead th {\n",
       "        text-align: right;\n",
       "    }\n",
       "</style>\n",
       "<table border=\"1\" class=\"dataframe\">\n",
       "  <thead>\n",
       "    <tr style=\"text-align: right;\">\n",
       "      <th></th>\n",
       "      <th>title</th>\n",
       "      <th>method</th>\n",
       "      <th>ingredients</th>\n",
       "      <th>url</th>\n",
       "      <th>ingredient_tokens</th>\n",
       "    </tr>\n",
       "  </thead>\n",
       "  <tbody>\n",
       "    <tr>\n",
       "      <th>0</th>\n",
       "      <td>Lentil, Apple, and Turkey Wrap</td>\n",
       "      <td>1. Place the stock, lentils, celery, carrot, t...</td>\n",
       "      <td>['4 cups low-sodium vegetable or chicken stock...</td>\n",
       "      <td>NaN</td>\n",
       "      <td>vegetable lentils lentils celery carrot  thyme...</td>\n",
       "    </tr>\n",
       "    <tr>\n",
       "      <th>1</th>\n",
       "      <td>Boudin Blanc Terrine with Red Onion Confit</td>\n",
       "      <td>Combine first 9 ingredients in heavy medium sa...</td>\n",
       "      <td>['1 1/2 cups whipping cream', '2 medium onions...</td>\n",
       "      <td>NaN</td>\n",
       "      <td>cream onions salt leaves cloves garlic pepper ...</td>\n",
       "    </tr>\n",
       "    <tr>\n",
       "      <th>2</th>\n",
       "      <td>Potato and Fennel Soup Hodge</td>\n",
       "      <td>In a large heavy saucepan cook diced fennel an...</td>\n",
       "      <td>['1 fennel bulb (sometimes called anise), stal...</td>\n",
       "      <td>NaN</td>\n",
       "      <td>onion butter potatoes broth milk</td>\n",
       "    </tr>\n",
       "    <tr>\n",
       "      <th>3</th>\n",
       "      <td>Mahi-Mahi in Tomato Olive Sauce</td>\n",
       "      <td>Heat oil in heavy large skillet over medium-hi...</td>\n",
       "      <td>['2 tablespoons extra-virgin olive oil', '1 cu...</td>\n",
       "      <td>NaN</td>\n",
       "      <td>oil onion wine paste tomatoes fillets olives p...</td>\n",
       "    </tr>\n",
       "    <tr>\n",
       "      <th>4</th>\n",
       "      <td>Spinach Noodle Casserole</td>\n",
       "      <td>Preheat oven to 350°F. Lightly grease 8x8x2-in...</td>\n",
       "      <td>['1 12-ounce package frozen spinach soufflé, t...</td>\n",
       "      <td>NaN</td>\n",
       "      <td>noodles cream sauce nutmeg cheese</td>\n",
       "    </tr>\n",
       "  </tbody>\n",
       "</table>\n",
       "</div>"
      ],
      "text/plain": [
       "                                         title  \\\n",
       "0              Lentil, Apple, and Turkey Wrap    \n",
       "1  Boudin Blanc Terrine with Red Onion Confit    \n",
       "2                Potato and Fennel Soup Hodge    \n",
       "3             Mahi-Mahi in Tomato Olive Sauce    \n",
       "4                    Spinach Noodle Casserole    \n",
       "\n",
       "                                              method  \\\n",
       "0  1. Place the stock, lentils, celery, carrot, t...   \n",
       "1  Combine first 9 ingredients in heavy medium sa...   \n",
       "2  In a large heavy saucepan cook diced fennel an...   \n",
       "3  Heat oil in heavy large skillet over medium-hi...   \n",
       "4  Preheat oven to 350°F. Lightly grease 8x8x2-in...   \n",
       "\n",
       "                                         ingredients  url  \\\n",
       "0  ['4 cups low-sodium vegetable or chicken stock...  NaN   \n",
       "1  ['1 1/2 cups whipping cream', '2 medium onions...  NaN   \n",
       "2  ['1 fennel bulb (sometimes called anise), stal...  NaN   \n",
       "3  ['2 tablespoons extra-virgin olive oil', '1 cu...  NaN   \n",
       "4  ['1 12-ounce package frozen spinach soufflé, t...  NaN   \n",
       "\n",
       "                                   ingredient_tokens  \n",
       "0  vegetable lentils lentils celery carrot  thyme...  \n",
       "1  cream onions salt leaves cloves garlic pepper ...  \n",
       "2                   onion butter potatoes broth milk  \n",
       "3  oil onion wine paste tomatoes fillets olives p...  \n",
       "4                  noodles cream sauce nutmeg cheese  "
      ]
     },
     "execution_count": 9,
     "metadata": {},
     "output_type": "execute_result"
    }
   ],
   "source": [
    "print(big_dumb.info())\n",
    "big_dumb.head()"
   ]
  },
  {
   "cell_type": "markdown",
   "metadata": {},
   "source": [
    "### Final Output to CSV for Recommender"
   ]
  },
  {
   "cell_type": "code",
   "execution_count": 10,
   "metadata": {},
   "outputs": [],
   "source": [
    "big_dumb.to_csv('data/compressed_clean.csv', index=False, compression='gzip')"
   ]
  }
 ],
 "metadata": {
  "kernelspec": {
   "display_name": "Python 3",
   "language": "python",
   "name": "python3"
  },
  "language_info": {
   "codemirror_mode": {
    "name": "ipython",
    "version": 3
   },
   "file_extension": ".py",
   "mimetype": "text/x-python",
   "name": "python",
   "nbconvert_exporter": "python",
   "pygments_lexer": "ipython3",
   "version": "3.7.6"
  }
 },
 "nbformat": 4,
 "nbformat_minor": 4
}
