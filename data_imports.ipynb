{
 "cells": [
  {
   "cell_type": "code",
   "execution_count": 27,
   "metadata": {},
   "outputs": [],
   "source": [
    "import json\n",
    "from pprint import pprint\n",
    "import numpy as np\n",
    "import pandas as pd"
   ]
  },
  {
   "cell_type": "markdown",
   "metadata": {},
   "source": [
    "## Epicurious"
   ]
  },
  {
   "cell_type": "code",
   "execution_count": 28,
   "metadata": {},
   "outputs": [
    {
     "output_type": "stream",
     "name": "stdout",
     "text": "{'calories': 426.0,\n 'categories': ['Sandwich',\n                'Bean',\n                'Fruit',\n                'Tomato',\n                'turkey',\n                'Vegetable',\n                'Kid-Friendly',\n                'Apple',\n                'Lentil',\n                'Lettuce',\n                'Cookie'],\n 'date': '2006-09-01T04:00:00.000Z',\n 'desc': None,\n 'directions': ['1. Place the stock, lentils, celery, carrot, thyme, and salt '\n                'in a medium saucepan and bring to a boil. Reduce heat to low '\n                'and simmer until the lentils are tender, about 30 minutes, '\n                'depending on the lentils. (If they begin to dry out, add '\n                'water as needed.) Remove and discard the thyme. Drain and '\n                'transfer the mixture to a bowl; let cool.',\n                '2. Fold in the tomato, apple, lemon juice, and olive oil. '\n                'Season with the pepper.',\n                '3. To assemble a wrap, place 1 lavash sheet on a clean work '\n                'surface. Spread some of the lentil mixture on the end nearest '\n                'you, leaving a 1-inch border. Top with several slices of '\n                'turkey, then some of the lettuce. Roll up the lavash, slice '\n                'crosswise, and serve. If using tortillas, spread the lentils '\n                'in the center, top with the turkey and lettuce, and fold up '\n                'the bottom, left side, and right side before rolling away '\n                'from you.'],\n 'fat': 7.0,\n 'ingredients': ['4 cups low-sodium vegetable or chicken stock',\n                 '1 cup dried brown lentils',\n                 '1/2 cup dried French green lentils',\n                 '2 stalks celery, chopped',\n                 '1 large carrot, peeled and chopped',\n                 '1 sprig fresh thyme',\n                 '1 teaspoon kosher salt',\n                 '1 medium tomato, cored, seeded, and diced',\n                 '1 small Fuji apple, cored and diced',\n                 '1 tablespoon freshly squeezed lemon juice',\n                 '2 teaspoons extra-virgin olive oil',\n                 'Freshly ground black pepper to taste',\n                 '3 sheets whole-wheat lavash, cut in half crosswise, or 6 '\n                 '(12-inch) flour tortillas',\n                 '3/4 pound turkey breast, thinly sliced',\n                 '1/2 head Bibb lettuce'],\n 'protein': 30.0,\n 'rating': 2.5,\n 'sodium': 559.0,\n 'title': 'Lentil, Apple, and Turkey Wrap '}\n"
    }
   ],
   "source": [
    "# load Epicurious Kaggle data\n",
    "with open('epirecipes/full_format_recipes.json', 'r') as f:\n",
    "    epicurious = json.loads(f.read())\n",
    "\n",
    "# check an entry\n",
    "pprint(epicurious[0])"
   ]
  },
  {
   "cell_type": "code",
   "execution_count": 29,
   "metadata": {},
   "outputs": [
    {
     "output_type": "execute_result",
     "data": {
      "text/plain": "list"
     },
     "metadata": {},
     "execution_count": 29
    }
   ],
   "source": [
    "type(epicurious)"
   ]
  },
  {
   "cell_type": "code",
   "execution_count": 30,
   "metadata": {},
   "outputs": [
    {
     "output_type": "execute_result",
     "data": {
      "text/plain": "Index(['directions', 'fat', 'date', 'categories', 'calories', 'desc',\n       'protein', 'rating', 'title', 'ingredients', 'sodium'],\n      dtype='object')"
     },
     "metadata": {},
     "execution_count": 30
    }
   ],
   "source": [
    "# get it into a dataframe, check columns\n",
    "epidf = pd.DataFrame(epicurious)\n",
    "epidf.columns"
   ]
  },
  {
   "cell_type": "code",
   "execution_count": 31,
   "metadata": {},
   "outputs": [
    {
     "output_type": "stream",
     "name": "stdout",
     "text": "<class 'pandas.core.frame.DataFrame'>\nRangeIndex: 20130 entries, 0 to 20129\nData columns (total 3 columns):\n #   Column       Non-Null Count  Dtype \n---  ------       --------------  ----- \n 0   title        20111 non-null  object\n 1   method       20111 non-null  object\n 2   ingredients  20111 non-null  object\ndtypes: object(3)\nmemory usage: 471.9+ KB\nNone\n"
    },
    {
     "output_type": "execute_result",
     "data": {
      "text/plain": "                                         title  \\\n0              Lentil, Apple, and Turkey Wrap    \n1  Boudin Blanc Terrine with Red Onion Confit    \n2                Potato and Fennel Soup Hodge    \n3             Mahi-Mahi in Tomato Olive Sauce    \n4                    Spinach Noodle Casserole    \n\n                                              method  \\\n0  1. Place the stock, lentils, celery, carrot, t...   \n1  Combine first 9 ingredients in heavy medium sa...   \n2  In a large heavy saucepan cook diced fennel an...   \n3  Heat oil in heavy large skillet over medium-hi...   \n4  Preheat oven to 350°F. Lightly grease 8x8x2-in...   \n\n                                         ingredients  \n0  [4 cups low-sodium vegetable or chicken stock,...  \n1  [1 1/2 cups whipping cream, 2 medium onions, c...  \n2  [1 fennel bulb (sometimes called anise), stalk...  \n3  [2 tablespoons extra-virgin olive oil, 1 cup c...  \n4  [1 12-ounce package frozen spinach soufflé, th...  ",
      "text/html": "<div>\n<style scoped>\n    .dataframe tbody tr th:only-of-type {\n        vertical-align: middle;\n    }\n\n    .dataframe tbody tr th {\n        vertical-align: top;\n    }\n\n    .dataframe thead th {\n        text-align: right;\n    }\n</style>\n<table border=\"1\" class=\"dataframe\">\n  <thead>\n    <tr style=\"text-align: right;\">\n      <th></th>\n      <th>title</th>\n      <th>method</th>\n      <th>ingredients</th>\n    </tr>\n  </thead>\n  <tbody>\n    <tr>\n      <th>0</th>\n      <td>Lentil, Apple, and Turkey Wrap</td>\n      <td>1. Place the stock, lentils, celery, carrot, t...</td>\n      <td>[4 cups low-sodium vegetable or chicken stock,...</td>\n    </tr>\n    <tr>\n      <th>1</th>\n      <td>Boudin Blanc Terrine with Red Onion Confit</td>\n      <td>Combine first 9 ingredients in heavy medium sa...</td>\n      <td>[1 1/2 cups whipping cream, 2 medium onions, c...</td>\n    </tr>\n    <tr>\n      <th>2</th>\n      <td>Potato and Fennel Soup Hodge</td>\n      <td>In a large heavy saucepan cook diced fennel an...</td>\n      <td>[1 fennel bulb (sometimes called anise), stalk...</td>\n    </tr>\n    <tr>\n      <th>3</th>\n      <td>Mahi-Mahi in Tomato Olive Sauce</td>\n      <td>Heat oil in heavy large skillet over medium-hi...</td>\n      <td>[2 tablespoons extra-virgin olive oil, 1 cup c...</td>\n    </tr>\n    <tr>\n      <th>4</th>\n      <td>Spinach Noodle Casserole</td>\n      <td>Preheat oven to 350°F. Lightly grease 8x8x2-in...</td>\n      <td>[1 12-ounce package frozen spinach soufflé, th...</td>\n    </tr>\n  </tbody>\n</table>\n</div>"
     },
     "metadata": {},
     "execution_count": 31
    }
   ],
   "source": [
    "# only keep title, ingredients, and directions renamed to method\n",
    "epidf = epidf[['title', 'directions', 'ingredients']]\n",
    "epidf.rename(columns={'directions': 'method'}, inplace=True)\n",
    "\n",
    "# join method to single string\n",
    "epidf['method'] = epidf['method'].str.join(' ')\n",
    "\n",
    "# check it out\n",
    "print(epidf.info())\n",
    "epidf.head()"
   ]
  },
  {
   "cell_type": "markdown",
   "metadata": {},
   "source": [
    "## Recipe Box\n",
    "\n",
    "Each json file from the Recipe Box undergoes the same treatment:\n",
    "- to dataframe\n",
    "- keep/reorder important data\n",
    "- rename instructions/directions to method\n",
    "- remove newline characters from method"
   ]
  },
  {
   "cell_type": "markdown",
   "metadata": {},
   "source": [
    "#### Also from Epicurious"
   ]
  },
  {
   "cell_type": "code",
   "execution_count": 32,
   "metadata": {},
   "outputs": [],
   "source": [
    "with open('recipes_raw/recipes_raw_nosource_epi.json', 'r') as f:\n",
    "    epicurious = json.loads(f.read())"
   ]
  },
  {
   "cell_type": "code",
   "execution_count": 33,
   "metadata": {},
   "outputs": [],
   "source": [
    "epirb = pd.DataFrame([x for x in epicurious.values()])\n",
    "epirb = epirb[['title', 'instructions', 'ingredients']]\n",
    "epirb.rename(columns={'instructions': 'method'}, inplace=True)\n",
    "epirb['method'] = epirb['method'].replace(r'\\n', '')"
   ]
  },
  {
   "cell_type": "markdown",
   "metadata": {},
   "source": [
    "#### from AllRecipes"
   ]
  },
  {
   "cell_type": "code",
   "execution_count": 34,
   "metadata": {},
   "outputs": [],
   "source": [
    "with open('recipes_raw/recipes_raw_nosource_ar.json', 'r') as f:\n",
    "    allrecipes = json.loads(f.read())"
   ]
  },
  {
   "cell_type": "code",
   "execution_count": 35,
   "metadata": {},
   "outputs": [],
   "source": [
    "arrb = pd.DataFrame([x for x in allrecipes.values()])\n",
    "arrb = arrb[['title', 'instructions', 'ingredients']]\n",
    "arrb.rename(columns={'instructions': 'method'}, inplace=True)\n",
    "arrb['method'] = arrb['method'].replace(r'\\n', '')"
   ]
  },
  {
   "cell_type": "markdown",
   "metadata": {},
   "source": [
    "#### from Food Network"
   ]
  },
  {
   "cell_type": "code",
   "execution_count": 36,
   "metadata": {},
   "outputs": [],
   "source": [
    "with open('recipes_raw/recipes_raw_nosource_fn.json', 'r') as f:\n",
    "    fnet = json.loads(f.read())"
   ]
  },
  {
   "cell_type": "code",
   "execution_count": 37,
   "metadata": {},
   "outputs": [],
   "source": [
    "fnrb = pd.DataFrame([x for x in fnet.values()])\n",
    "fnrb = fnrb[['title', 'instructions', 'ingredients']]\n",
    "fnrb.rename(columns={'instructions': 'method'}, inplace=True)\n",
    "fnrb['method'] = fnrb['method'].replace(r'\\n', '')"
   ]
  },
  {
   "cell_type": "markdown",
   "metadata": {},
   "source": [
    "#### Combine Recipe Box Dataframes"
   ]
  },
  {
   "cell_type": "code",
   "execution_count": 38,
   "metadata": {},
   "outputs": [
    {
     "output_type": "execute_result",
     "data": {
      "text/plain": "                                               title  \\\n0                                  Christmas Eggnog    \n1                  Veal, Carrot and Chestnut Ragoût    \n2  Caramelized Bread Pudding with Chocolate and C...   \n3      Sherried Stilton and Green Peppercorn Spread    \n4                        Almond-Chocolate Macaroons    \n\n                                              method  \\\n0  Beat the egg whites until stiff, gradually add...   \n1  Preheat oven to 400°F. Using small sharp knife...   \n2  Preheat the oven to 350°F. Spread the softened...   \n3  In a food processor blend the Stilton, the cre...   \n4  Position rack in center of oven and preheat to...   \n\n                                         ingredients  \n0  [12 egg whites, 12 egg yolks, 1 1/2 cups sugar...  \n1  [18 fresh chestnuts, 2 1/2 pounds veal stew me...  \n2  [2 tablespoons unsalted butter, softened, 4 or...  \n3  [3/4 pound Stilton, crumbled (about 3 cups) an...  \n4  [2 cups (about 9 1/2 ounces) whole almonds, to...  ",
      "text/html": "<div>\n<style scoped>\n    .dataframe tbody tr th:only-of-type {\n        vertical-align: middle;\n    }\n\n    .dataframe tbody tr th {\n        vertical-align: top;\n    }\n\n    .dataframe thead th {\n        text-align: right;\n    }\n</style>\n<table border=\"1\" class=\"dataframe\">\n  <thead>\n    <tr style=\"text-align: right;\">\n      <th></th>\n      <th>title</th>\n      <th>method</th>\n      <th>ingredients</th>\n    </tr>\n  </thead>\n  <tbody>\n    <tr>\n      <th>0</th>\n      <td>Christmas Eggnog</td>\n      <td>Beat the egg whites until stiff, gradually add...</td>\n      <td>[12 egg whites, 12 egg yolks, 1 1/2 cups sugar...</td>\n    </tr>\n    <tr>\n      <th>1</th>\n      <td>Veal, Carrot and Chestnut Ragoût</td>\n      <td>Preheat oven to 400°F. Using small sharp knife...</td>\n      <td>[18 fresh chestnuts, 2 1/2 pounds veal stew me...</td>\n    </tr>\n    <tr>\n      <th>2</th>\n      <td>Caramelized Bread Pudding with Chocolate and C...</td>\n      <td>Preheat the oven to 350°F. Spread the softened...</td>\n      <td>[2 tablespoons unsalted butter, softened, 4 or...</td>\n    </tr>\n    <tr>\n      <th>3</th>\n      <td>Sherried Stilton and Green Peppercorn Spread</td>\n      <td>In a food processor blend the Stilton, the cre...</td>\n      <td>[3/4 pound Stilton, crumbled (about 3 cups) an...</td>\n    </tr>\n    <tr>\n      <th>4</th>\n      <td>Almond-Chocolate Macaroons</td>\n      <td>Position rack in center of oven and preheat to...</td>\n      <td>[2 cups (about 9 1/2 ounces) whole almonds, to...</td>\n    </tr>\n  </tbody>\n</table>\n</div>"
     },
     "metadata": {},
     "execution_count": 38
    }
   ],
   "source": [
    "rbdf = pd.concat([epirb, arrb, fnrb])\n",
    "rbdf.head()"
   ]
  },
  {
   "cell_type": "markdown",
   "metadata": {},
   "source": [
    "## Recipe 1M Dataset"
   ]
  },
  {
   "cell_type": "code",
   "execution_count": 39,
   "metadata": {},
   "outputs": [],
   "source": [
    "def val_extractor(list_of_dicts, key='text'):\n",
    "    '''returns values from a list of dicts as a list of strings for the Recipe1M dataset'''\n",
    "    return [x.get(key) for x in list_of_dicts]\n",
    "\n",
    "def recipe_formatter(dictionary_entry):\n",
    "    '''formats recipes from Recipe 1M to Recipe Box structure'''\n",
    "    dictionary_entry['ingredients'] = val_extractor(dictionary_entry['ingredients'])\n",
    "    dictionary_entry['instructions'] = val_extractor(dictionary_entry['instructions'])\n",
    "    return dictionary_entry"
   ]
  },
  {
   "cell_type": "code",
   "execution_count": 40,
   "metadata": {},
   "outputs": [],
   "source": [
    "with open('recipe1M/layer1.json', 'r') as f:\n",
    "    r1M = json.loads(f.read())"
   ]
  },
  {
   "cell_type": "code",
   "execution_count": 41,
   "metadata": {},
   "outputs": [],
   "source": [
    "# restructure to match other dataframes\n",
    "for i in r1M:\n",
    "    recipe_formatter(i)"
   ]
  },
  {
   "cell_type": "code",
   "execution_count": 42,
   "metadata": {},
   "outputs": [
    {
     "output_type": "stream",
     "name": "stdout",
     "text": "<class 'pandas.core.frame.DataFrame'>\nRangeIndex: 1029720 entries, 0 to 1029719\nData columns (total 4 columns):\n #   Column       Non-Null Count    Dtype \n---  ------       --------------    ----- \n 0   title        1029720 non-null  object\n 1   url          1029720 non-null  object\n 2   method       1029720 non-null  object\n 3   ingredients  1029720 non-null  object\ndtypes: object(4)\nmemory usage: 31.4+ MB\nNone\n"
    },
    {
     "output_type": "execute_result",
     "data": {
      "text/plain": "                                title  \\\n0          Worlds Best Mac and Cheese   \n1         Dilly Macaroni Salad Recipe   \n2                            Gazpacho   \n3           Crunchy Onion Potato Bake   \n4  Cool 'n Easy Creamy Watermelon Pie   \n\n                                                 url  \\\n0  http://www.epicurious.com/recipes/food/views/-...   \n1  http://cookeatshare.com/recipes/dilly-macaroni...   \n2  http://www.foodnetwork.com/recipes/gazpacho1.html   \n3  http://www.food.com/recipe/crunchy-onion-potat...   \n4  http://www.food.com/recipe/cool-n-easy-creamy-...   \n\n                                              method  \\\n0  Preheat the oven to 350 F. Butter or oil an 8-...   \n1  Cook macaroni according to package directions;...   \n2  Add the tomatoes to a food processor with a pi...   \n3  Preheat oven to 350 degrees Fahrenheit. Spray ...   \n4  Dissolve Jello in boiling water. Allow to cool...   \n\n                                         ingredients  \n0  [6 ounces penne, 2 cups Beechers Flagship Chee...  \n1  [1 c. elbow macaroni, 1 c. cubed American chee...  \n2  [8 tomatoes, quartered, Kosher salt, 1 red oni...  \n3  [2 12 cups milk, 1 12 cups water, 14 cup butte...  \n4  [1 (3 ounce) package watermelon gelatin, 14 cu...  ",
      "text/html": "<div>\n<style scoped>\n    .dataframe tbody tr th:only-of-type {\n        vertical-align: middle;\n    }\n\n    .dataframe tbody tr th {\n        vertical-align: top;\n    }\n\n    .dataframe thead th {\n        text-align: right;\n    }\n</style>\n<table border=\"1\" class=\"dataframe\">\n  <thead>\n    <tr style=\"text-align: right;\">\n      <th></th>\n      <th>title</th>\n      <th>url</th>\n      <th>method</th>\n      <th>ingredients</th>\n    </tr>\n  </thead>\n  <tbody>\n    <tr>\n      <th>0</th>\n      <td>Worlds Best Mac and Cheese</td>\n      <td>http://www.epicurious.com/recipes/food/views/-...</td>\n      <td>Preheat the oven to 350 F. Butter or oil an 8-...</td>\n      <td>[6 ounces penne, 2 cups Beechers Flagship Chee...</td>\n    </tr>\n    <tr>\n      <th>1</th>\n      <td>Dilly Macaroni Salad Recipe</td>\n      <td>http://cookeatshare.com/recipes/dilly-macaroni...</td>\n      <td>Cook macaroni according to package directions;...</td>\n      <td>[1 c. elbow macaroni, 1 c. cubed American chee...</td>\n    </tr>\n    <tr>\n      <th>2</th>\n      <td>Gazpacho</td>\n      <td>http://www.foodnetwork.com/recipes/gazpacho1.html</td>\n      <td>Add the tomatoes to a food processor with a pi...</td>\n      <td>[8 tomatoes, quartered, Kosher salt, 1 red oni...</td>\n    </tr>\n    <tr>\n      <th>3</th>\n      <td>Crunchy Onion Potato Bake</td>\n      <td>http://www.food.com/recipe/crunchy-onion-potat...</td>\n      <td>Preheat oven to 350 degrees Fahrenheit. Spray ...</td>\n      <td>[2 12 cups milk, 1 12 cups water, 14 cup butte...</td>\n    </tr>\n    <tr>\n      <th>4</th>\n      <td>Cool 'n Easy Creamy Watermelon Pie</td>\n      <td>http://www.food.com/recipe/cool-n-easy-creamy-...</td>\n      <td>Dissolve Jello in boiling water. Allow to cool...</td>\n      <td>[1 (3 ounce) package watermelon gelatin, 14 cu...</td>\n    </tr>\n  </tbody>\n</table>\n</div>"
     },
     "metadata": {},
     "execution_count": 42
    }
   ],
   "source": [
    "rmdf = pd.DataFrame(r1M)\n",
    "rmdf = rmdf[['title', 'url', 'instructions', 'ingredients']]\n",
    "rmdf.rename(columns={'instructions': 'method'}, inplace=True)\n",
    "\n",
    "# join method to single string\n",
    "rmdf['method'] = rmdf['method'].str.join(' ')\n",
    "\n",
    "print(rmdf.info())\n",
    "rmdf.head()"
   ]
  },
  {
   "cell_type": "markdown",
   "metadata": {},
   "source": [
    "## Concatenate Dataframes"
   ]
  },
  {
   "cell_type": "code",
   "execution_count": 43,
   "metadata": {},
   "outputs": [
    {
     "output_type": "stream",
     "name": "stdout",
     "text": "<class 'pandas.core.frame.DataFrame'>\nInt64Index: 1175014 entries, 0 to 1029719\nData columns (total 4 columns):\n #   Column       Non-Null Count    Dtype \n---  ------       --------------    ----- \n 0   title        1174426 non-null  object\n 1   method       1174304 non-null  object\n 2   ingredients  1174478 non-null  object\n 3   url          1029720 non-null  object\ndtypes: object(4)\nmemory usage: 44.8+ MB\nNone\n"
    },
    {
     "output_type": "execute_result",
     "data": {
      "text/plain": "                                         title  \\\n0              Lentil, Apple, and Turkey Wrap    \n1  Boudin Blanc Terrine with Red Onion Confit    \n2                Potato and Fennel Soup Hodge    \n3             Mahi-Mahi in Tomato Olive Sauce    \n4                    Spinach Noodle Casserole    \n\n                                              method  \\\n0  1. Place the stock, lentils, celery, carrot, t...   \n1  Combine first 9 ingredients in heavy medium sa...   \n2  In a large heavy saucepan cook diced fennel an...   \n3  Heat oil in heavy large skillet over medium-hi...   \n4  Preheat oven to 350°F. Lightly grease 8x8x2-in...   \n\n                                         ingredients  url  \n0  [4 cups low-sodium vegetable or chicken stock,...  NaN  \n1  [1 1/2 cups whipping cream, 2 medium onions, c...  NaN  \n2  [1 fennel bulb (sometimes called anise), stalk...  NaN  \n3  [2 tablespoons extra-virgin olive oil, 1 cup c...  NaN  \n4  [1 12-ounce package frozen spinach soufflé, th...  NaN  ",
      "text/html": "<div>\n<style scoped>\n    .dataframe tbody tr th:only-of-type {\n        vertical-align: middle;\n    }\n\n    .dataframe tbody tr th {\n        vertical-align: top;\n    }\n\n    .dataframe thead th {\n        text-align: right;\n    }\n</style>\n<table border=\"1\" class=\"dataframe\">\n  <thead>\n    <tr style=\"text-align: right;\">\n      <th></th>\n      <th>title</th>\n      <th>method</th>\n      <th>ingredients</th>\n      <th>url</th>\n    </tr>\n  </thead>\n  <tbody>\n    <tr>\n      <th>0</th>\n      <td>Lentil, Apple, and Turkey Wrap</td>\n      <td>1. Place the stock, lentils, celery, carrot, t...</td>\n      <td>[4 cups low-sodium vegetable or chicken stock,...</td>\n      <td>NaN</td>\n    </tr>\n    <tr>\n      <th>1</th>\n      <td>Boudin Blanc Terrine with Red Onion Confit</td>\n      <td>Combine first 9 ingredients in heavy medium sa...</td>\n      <td>[1 1/2 cups whipping cream, 2 medium onions, c...</td>\n      <td>NaN</td>\n    </tr>\n    <tr>\n      <th>2</th>\n      <td>Potato and Fennel Soup Hodge</td>\n      <td>In a large heavy saucepan cook diced fennel an...</td>\n      <td>[1 fennel bulb (sometimes called anise), stalk...</td>\n      <td>NaN</td>\n    </tr>\n    <tr>\n      <th>3</th>\n      <td>Mahi-Mahi in Tomato Olive Sauce</td>\n      <td>Heat oil in heavy large skillet over medium-hi...</td>\n      <td>[2 tablespoons extra-virgin olive oil, 1 cup c...</td>\n      <td>NaN</td>\n    </tr>\n    <tr>\n      <th>4</th>\n      <td>Spinach Noodle Casserole</td>\n      <td>Preheat oven to 350°F. Lightly grease 8x8x2-in...</td>\n      <td>[1 12-ounce package frozen spinach soufflé, th...</td>\n      <td>NaN</td>\n    </tr>\n  </tbody>\n</table>\n</div>"
     },
     "metadata": {},
     "execution_count": 43
    }
   ],
   "source": [
    "recipes = pd.concat([epidf, rbdf, rmdf])\n",
    "\n",
    "print(recipes.info())\n",
    "recipes.head()"
   ]
  },
  {
   "cell_type": "markdown",
   "metadata": {},
   "source": [
    "## Drop Nulls from title, method, and ingredients"
   ]
  },
  {
   "cell_type": "code",
   "execution_count": 44,
   "metadata": {},
   "outputs": [
    {
     "output_type": "execute_result",
     "data": {
      "text/plain": "title             588\nmethod            710\ningredients       536\nurl            145294\ndtype: int64"
     },
     "metadata": {},
     "execution_count": 44
    }
   ],
   "source": [
    "recipes.isnull().sum()"
   ]
  },
  {
   "cell_type": "code",
   "execution_count": 45,
   "metadata": {},
   "outputs": [
    {
     "output_type": "execute_result",
     "data": {
      "text/plain": "title             588\nmethod            746\ningredients       536\nurl            145294\ndtype: int64"
     },
     "metadata": {},
     "execution_count": 45
    }
   ],
   "source": [
    "# some values are empty strings, not explicitly designated automatically as nulls until output and input cycle\n",
    "recipes.replace('', np.nan, inplace=True)\n",
    "recipes.isnull().sum()"
   ]
  },
  {
   "cell_type": "code",
   "execution_count": 46,
   "metadata": {},
   "outputs": [
    {
     "output_type": "execute_result",
     "data": {
      "text/plain": "title               0\nmethod              0\ningredients         0\nurl            144548\ndtype: int64"
     },
     "metadata": {},
     "execution_count": 46
    }
   ],
   "source": [
    "# drop nulls\n",
    "recipes.dropna(subset=['title', 'method', 'ingredients'], inplace=True)\n",
    "recipes.isnull().sum()"
   ]
  },
  {
   "cell_type": "markdown",
   "metadata": {},
   "source": [
    "## Save to CSV"
   ]
  },
  {
   "cell_type": "code",
   "execution_count": 47,
   "metadata": {},
   "outputs": [],
   "source": [
    "# !mkdir data\n",
    "recipes.to_csv('data/dirty_recipes.csv', index=False)"
   ]
  }
 ],
 "metadata": {
  "kernelspec": {
   "display_name": "Python 3",
   "language": "python",
   "name": "python3"
  },
  "language_info": {
   "codemirror_mode": {
    "name": "ipython",
    "version": 3
   },
   "file_extension": ".py",
   "mimetype": "text/x-python",
   "name": "python",
   "nbconvert_exporter": "python",
   "pygments_lexer": "ipython3",
   "version": "3.7.6-final"
  }
 },
 "nbformat": 4,
 "nbformat_minor": 4
}